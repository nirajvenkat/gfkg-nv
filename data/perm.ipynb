{
 "cells": [
  {
   "cell_type": "code",
   "execution_count": 26,
   "metadata": {},
   "outputs": [],
   "source": [
    "from sympy.utilities.iterables import permutations\n",
    "from sympy.combinatorics.permutations import Permutation\n",
    "import math"
   ]
  },
  {
   "cell_type": "code",
   "execution_count": 22,
   "metadata": {},
   "outputs": [
    {
     "name": "stdout",
     "output_type": "stream",
     "text": [
      "\\beta\\gamma\\delta signature: +\n",
      "\\beta\\delta\\gamma signature: -\n",
      "\\gamma\\beta\\delta signature: -\n",
      "\\gamma\\delta\\beta signature: +\n",
      "\\delta\\beta\\gamma signature: +\n",
      "\\delta\\gamma\\beta signature: -\n"
     ]
    }
   ],
   "source": [
    "map = {0:\"beta\",1:\"gamma\",2:\"delta\"}\n",
    "elements = [0, 1, 2]\n",
    "for perm in permutations(elements):\n",
    "    perm_obj = Permutation(perm)\n",
    "    s = [\"\".join(map[x]) for x in perm]\n",
    "    s = \"\\\\\"+\"\\\\\".join(s)\n",
    "    sign = \"+\" if perm_obj.is_even else \"-\"\n",
    "    print(s, \"signature:\", sign)\n"
   ]
  },
  {
   "cell_type": "code",
   "execution_count": 31,
   "metadata": {},
   "outputs": [
    {
     "name": "stdout",
     "output_type": "stream",
     "text": [
      "\\alpha\\beta\\gamma\\delta signature: +\n",
      "\\alpha\\beta\\delta\\gamma signature: -\n",
      "\\alpha\\gamma\\beta\\delta signature: -\n",
      "\\alpha\\gamma\\delta\\beta signature: +\n",
      "\\alpha\\delta\\beta\\gamma signature: +\n",
      "\\alpha\\delta\\gamma\\beta signature: -\n",
      "\\beta\\alpha\\gamma\\delta signature: -\n",
      "\\beta\\alpha\\delta\\gamma signature: +\n",
      "\\beta\\gamma\\alpha\\delta signature: +\n",
      "\\beta\\gamma\\delta\\alpha signature: -\n",
      "\\beta\\delta\\alpha\\gamma signature: -\n",
      "\\beta\\delta\\gamma\\alpha signature: +\n",
      "\\gamma\\alpha\\beta\\delta signature: +\n",
      "\\gamma\\alpha\\delta\\beta signature: -\n",
      "\\gamma\\beta\\alpha\\delta signature: -\n",
      "\\gamma\\beta\\delta\\alpha signature: +\n",
      "\\gamma\\delta\\alpha\\beta signature: +\n",
      "\\gamma\\delta\\beta\\alpha signature: -\n",
      "\\delta\\alpha\\beta\\gamma signature: -\n",
      "\\delta\\alpha\\gamma\\beta signature: +\n",
      "\\delta\\beta\\alpha\\gamma signature: +\n",
      "\\delta\\beta\\gamma\\alpha signature: -\n",
      "\\delta\\gamma\\alpha\\beta signature: -\n",
      "\\delta\\gamma\\beta\\alpha signature: +\n",
      "24 permutations = 4! = 24\n"
     ]
    }
   ],
   "source": [
    "map = {0: \"alpha\", 1: \"beta\", 2: \"gamma\", 3: \"delta\"}\n",
    "elements = [0, 1, 2, 3]\n",
    "total = 0\n",
    "for perm in permutations(elements):\n",
    "    perm_obj = Permutation(perm)\n",
    "    s = [\"\".join(map[x]) for x in perm]\n",
    "    s = \"\\\\\"+\"\\\\\".join(s)\n",
    "    sign = \"+\" if perm_obj.is_even else \"-\"\n",
    "    print(s, \"signature:\", sign)\n",
    "    total += 1\n",
    "print(total, \"permutations\", \"=\", f\"{len(elements)}!\", \"=\", math.factorial(len(elements)))\n"
   ]
  }
 ],
 "metadata": {
  "kernelspec": {
   "display_name": "base",
   "language": "python",
   "name": "python3"
  },
  "language_info": {
   "codemirror_mode": {
    "name": "ipython",
    "version": 3
   },
   "file_extension": ".py",
   "mimetype": "text/x-python",
   "name": "python",
   "nbconvert_exporter": "python",
   "pygments_lexer": "ipython3",
   "version": "3.11.7"
  }
 },
 "nbformat": 4,
 "nbformat_minor": 2
}
